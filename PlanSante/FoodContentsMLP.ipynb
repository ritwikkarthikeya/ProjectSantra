{
  "nbformat": 4,
  "nbformat_minor": 0,
  "metadata": {
    "colab": {
      "provenance": []
    },
    "kernelspec": {
      "name": "python3",
      "display_name": "Python 3"
    },
    "language_info": {
      "name": "python"
    }
  },
  "cells": [
    {
      "cell_type": "code",
      "execution_count": 24,
      "metadata": {
        "id": "0Nleu2z09kfD"
      },
      "outputs": [],
      "source": [
        "import pandas as pd\n",
        "import numpy as np\n",
        "import tensorflow as tf\n",
        "from sklearn.model_selection import train_test_split\n",
        "from sklearn.preprocessing import StandardScaler"
      ]
    },
    {
      "cell_type": "code",
      "source": [
        "# Load the dataset\n",
        "try:\n",
        "    data = pd.read_csv('/content/drive/MyDrive/PlanSante/FoodContents.csv')\n",
        "except FileNotFoundError:\n",
        "    from google.colab import files\n",
        "    print(\"Please upload the FoodContents.csv file\")\n",
        "    uploaded = files.upload()\n",
        "    data = pd.read_csv('FoodContents.csv')\n",
        "\n",
        "# Step 1: Check original dataset size\n",
        "print(f\"Original dataset size: {data.shape[0]}\")\n",
        "\n",
        "# Select relevant features for prediction\n",
        "features = ['protein_g', 'carb_g', 'fat_g', 'freesugar_g', 'fibre_g',\n",
        "            'sodium_mg', 'potassium_mg', 'calcium_mg']\n",
        "\n",
        "# Check for missing values\n",
        "print(\"Missing values:\\n\", data[features + ['energy_kcal']].isnull().sum())\n",
        "\n",
        "# Remove rows with missing values\n",
        "data_cleaned = data.dropna(subset=features + ['energy_kcal'])\n",
        "\n",
        "# Step 2: Check dataset size after cleaning\n",
        "print(f\"Dataset size after cleaning: {data_cleaned.shape[0]}\")\n",
        "\n",
        "# Prepare the data\n",
        "X = data_cleaned[features]\n",
        "y = data_cleaned['energy_kcal']\n",
        "\n",
        "# Split the data\n",
        "X_train, X_test, y_train, y_test = train_test_split(X, y, test_size=0.2, random_state=42)\n",
        "\n",
        "# Step 3: Check training and test set sizes\n",
        "print(f\"Training set size: {X_train.shape[0]}\")\n",
        "print(f\"Test set size: {X_test.shape[0]}\")"
      ],
      "metadata": {
        "colab": {
          "base_uri": "https://localhost:8080/"
        },
        "id": "bXDY6Hxm-P-w",
        "outputId": "f5a5e77d-cfb5-4691-d7d0-450b67592d28"
      },
      "execution_count": 25,
      "outputs": [
        {
          "output_type": "stream",
          "name": "stdout",
          "text": [
            "Original dataset size: 1014\n",
            "Missing values:\n",
            " protein_g       0\n",
            "carb_g          0\n",
            "fat_g           0\n",
            "freesugar_g     0\n",
            "fibre_g         0\n",
            "sodium_mg       0\n",
            "potassium_mg    0\n",
            "calcium_mg      0\n",
            "energy_kcal     0\n",
            "dtype: int64\n",
            "Dataset size after cleaning: 1014\n",
            "Training set size: 811\n",
            "Test set size: 203\n"
          ]
        }
      ]
    },
    {
      "cell_type": "code",
      "source": [
        "# Select relevant features for prediction\n",
        "features = ['protein_g', 'carb_g', 'fat_g', 'freesugar_g', 'fibre_g',\n",
        "            'sodium_mg', 'potassium_mg', 'calcium_mg']"
      ],
      "metadata": {
        "id": "f8cB_VQM-QIW"
      },
      "execution_count": 26,
      "outputs": []
    },
    {
      "cell_type": "code",
      "source": [
        "# Check for missing values\n",
        "print(\"Missing values:\\n\", data[features + ['energy_kcal']].isnull().sum())"
      ],
      "metadata": {
        "colab": {
          "base_uri": "https://localhost:8080/"
        },
        "id": "kbf8W4u0-QPu",
        "outputId": "68492d98-ed2a-48c2-b9ee-a65e0d9322c7"
      },
      "execution_count": 27,
      "outputs": [
        {
          "output_type": "stream",
          "name": "stdout",
          "text": [
            "Missing values:\n",
            " protein_g       0\n",
            "carb_g          0\n",
            "fat_g           0\n",
            "freesugar_g     0\n",
            "fibre_g         0\n",
            "sodium_mg       0\n",
            "potassium_mg    0\n",
            "calcium_mg      0\n",
            "energy_kcal     0\n",
            "dtype: int64\n"
          ]
        }
      ]
    },
    {
      "cell_type": "code",
      "source": [
        "# Remove rows with missing values if any\n",
        "data_cleaned = data.dropna(subset=features + ['energy_kcal'])"
      ],
      "metadata": {
        "id": "h8IVotOh-QVa"
      },
      "execution_count": 28,
      "outputs": []
    },
    {
      "cell_type": "code",
      "source": [
        "# Prepare the data\n",
        "X = data_cleaned[features]\n",
        "y = data_cleaned['energy_kcal']"
      ],
      "metadata": {
        "id": "zaKH8zzR-QdE"
      },
      "execution_count": 29,
      "outputs": []
    },
    {
      "cell_type": "code",
      "source": [
        "# Split the data\n",
        "X_train, X_test, y_train, y_test = train_test_split(X, y, test_size=0.2, random_state=42)"
      ],
      "metadata": {
        "id": "TSAx0r37-Qfn"
      },
      "execution_count": 30,
      "outputs": []
    },
    {
      "cell_type": "code",
      "source": [
        "# Scale the features\n",
        "scaler = StandardScaler()\n",
        "X_train_scaled = scaler.fit_transform(X_train)\n",
        "X_test_scaled = scaler.transform(X_test)\n",
        "\n",
        "# Set random seed for reproducibility\n",
        "tf.random.set_seed(42)"
      ],
      "metadata": {
        "id": "hJzRbLQZ-QiX"
      },
      "execution_count": 31,
      "outputs": []
    },
    {
      "cell_type": "code",
      "source": [
        "# Build the neural network model\n",
        "model = tf.keras.Sequential([\n",
        "    tf.keras.Input(shape=(X_train_scaled.shape[1],)),  # Explicitly define input shape\n",
        "    tf.keras.layers.Dense(64, activation='relu', kernel_regularizer=tf.keras.regularizers.l2(0.001)),\n",
        "    tf.keras.layers.Dropout(0.3),\n",
        "    tf.keras.layers.Dense(32, activation='relu'),\n",
        "    tf.keras.layers.Dropout(0.2),\n",
        "    tf.keras.layers.Dense(16, activation='relu'),\n",
        "    tf.keras.layers.Dense(1, activation='linear')\n",
        "])"
      ],
      "metadata": {
        "id": "C9sg7sEN-Qqq"
      },
      "execution_count": 32,
      "outputs": []
    },
    {
      "cell_type": "code",
      "source": [
        "# Compile the model\n",
        "model.compile(\n",
        "    optimizer=tf.keras.optimizers.Adam(learning_rate=0.001),\n",
        "    loss='mean_squared_error',\n",
        "    metrics=['mae']\n",
        ")"
      ],
      "metadata": {
        "id": "AEudCtmX-QvL"
      },
      "execution_count": 33,
      "outputs": []
    },
    {
      "cell_type": "code",
      "source": [
        "# Training callbacks\n",
        "early_stopping = tf.keras.callbacks.EarlyStopping(\n",
        "    monitor='val_loss',\n",
        "    patience=10,\n",
        "    restore_best_weights=True\n",
        ")"
      ],
      "metadata": {
        "id": "eS049BwQ_Brn"
      },
      "execution_count": 34,
      "outputs": []
    },
    {
      "cell_type": "code",
      "source": [
        "reduce_lr = tf.keras.callbacks.ReduceLROnPlateau(\n",
        "    monitor='val_loss',\n",
        "    factor=0.2,\n",
        "    patience=5,\n",
        "    min_lr=0.00001\n",
        ")"
      ],
      "metadata": {
        "id": "E6uak8Rn_BxX"
      },
      "execution_count": 35,
      "outputs": []
    },
    {
      "cell_type": "code",
      "source": [
        "# Train the model\n",
        "history = model.fit(\n",
        "    X_train_scaled, y_train,\n",
        "    validation_split=0.2,\n",
        "    epochs=100,\n",
        "    batch_size=32,\n",
        "    callbacks=[early_stopping, reduce_lr],\n",
        "    verbose=1\n",
        ")"
      ],
      "metadata": {
        "colab": {
          "base_uri": "https://localhost:8080/"
        },
        "id": "UpaEzCdB_B2h",
        "outputId": "a8c6ba02-d135-4a6a-9a01-9f66bca54ce7"
      },
      "execution_count": 36,
      "outputs": [
        {
          "output_type": "stream",
          "name": "stdout",
          "text": [
            "Epoch 1/100\n",
            "\u001b[1m21/21\u001b[0m \u001b[32m━━━━━━━━━━━━━━━━━━━━\u001b[0m\u001b[37m\u001b[0m \u001b[1m2s\u001b[0m 13ms/step - loss: 89526.7734 - mae: 231.6044 - val_loss: 96611.0781 - val_mae: 249.5701 - learning_rate: 0.0010\n",
            "Epoch 2/100\n",
            "\u001b[1m21/21\u001b[0m \u001b[32m━━━━━━━━━━━━━━━━━━━━\u001b[0m\u001b[37m\u001b[0m \u001b[1m0s\u001b[0m 4ms/step - loss: 88917.4688 - mae: 230.5191 - val_loss: 95447.5234 - val_mae: 247.6078 - learning_rate: 0.0010\n",
            "Epoch 3/100\n",
            "\u001b[1m21/21\u001b[0m \u001b[32m━━━━━━━━━━━━━━━━━━━━\u001b[0m\u001b[37m\u001b[0m \u001b[1m0s\u001b[0m 4ms/step - loss: 87647.0234 - mae: 228.2984 - val_loss: 92911.6719 - val_mae: 243.3919 - learning_rate: 0.0010\n",
            "Epoch 4/100\n",
            "\u001b[1m21/21\u001b[0m \u001b[32m━━━━━━━━━━━━━━━━━━━━\u001b[0m\u001b[37m\u001b[0m \u001b[1m0s\u001b[0m 4ms/step - loss: 84996.2031 - mae: 223.7285 - val_loss: 87719.5234 - val_mae: 234.7697 - learning_rate: 0.0010\n",
            "Epoch 5/100\n",
            "\u001b[1m21/21\u001b[0m \u001b[32m━━━━━━━━━━━━━━━━━━━━\u001b[0m\u001b[37m\u001b[0m \u001b[1m0s\u001b[0m 4ms/step - loss: 79245.1406 - mae: 213.6110 - val_loss: 77936.2188 - val_mae: 218.6003 - learning_rate: 0.0010\n",
            "Epoch 6/100\n",
            "\u001b[1m21/21\u001b[0m \u001b[32m━━━━━━━━━━━━━━━━━━━━\u001b[0m\u001b[37m\u001b[0m \u001b[1m0s\u001b[0m 4ms/step - loss: 69247.9062 - mae: 196.6854 - val_loss: 61985.5156 - val_mae: 190.8863 - learning_rate: 0.0010\n",
            "Epoch 7/100\n",
            "\u001b[1m21/21\u001b[0m \u001b[32m━━━━━━━━━━━━━━━━━━━━\u001b[0m\u001b[37m\u001b[0m \u001b[1m0s\u001b[0m 5ms/step - loss: 53116.8984 - mae: 167.0001 - val_loss: 40924.3984 - val_mae: 148.8225 - learning_rate: 0.0010\n",
            "Epoch 8/100\n",
            "\u001b[1m21/21\u001b[0m \u001b[32m━━━━━━━━━━━━━━━━━━━━\u001b[0m\u001b[37m\u001b[0m \u001b[1m0s\u001b[0m 4ms/step - loss: 35394.8789 - mae: 131.6676 - val_loss: 21776.6895 - val_mae: 107.1495 - learning_rate: 0.0010\n",
            "Epoch 9/100\n",
            "\u001b[1m21/21\u001b[0m \u001b[32m━━━━━━━━━━━━━━━━━━━━\u001b[0m\u001b[37m\u001b[0m \u001b[1m0s\u001b[0m 4ms/step - loss: 21692.8965 - mae: 102.5604 - val_loss: 11737.2314 - val_mae: 81.2126 - learning_rate: 0.0010\n",
            "Epoch 10/100\n",
            "\u001b[1m21/21\u001b[0m \u001b[32m━━━━━━━━━━━━━━━━━━━━\u001b[0m\u001b[37m\u001b[0m \u001b[1m0s\u001b[0m 4ms/step - loss: 14138.6162 - mae: 85.2168 - val_loss: 8122.3115 - val_mae: 68.5247 - learning_rate: 0.0010\n",
            "Epoch 11/100\n",
            "\u001b[1m21/21\u001b[0m \u001b[32m━━━━━━━━━━━━━━━━━━━━\u001b[0m\u001b[37m\u001b[0m \u001b[1m0s\u001b[0m 4ms/step - loss: 11433.5996 - mae: 77.4923 - val_loss: 6316.1416 - val_mae: 59.8016 - learning_rate: 0.0010\n",
            "Epoch 12/100\n",
            "\u001b[1m21/21\u001b[0m \u001b[32m━━━━━━━━━━━━━━━━━━━━\u001b[0m\u001b[37m\u001b[0m \u001b[1m0s\u001b[0m 4ms/step - loss: 8782.1709 - mae: 68.4809 - val_loss: 5145.6201 - val_mae: 53.6293 - learning_rate: 0.0010\n",
            "Epoch 13/100\n",
            "\u001b[1m21/21\u001b[0m \u001b[32m━━━━━━━━━━━━━━━━━━━━\u001b[0m\u001b[37m\u001b[0m \u001b[1m0s\u001b[0m 4ms/step - loss: 7275.8940 - mae: 62.0029 - val_loss: 4193.3389 - val_mae: 47.3407 - learning_rate: 0.0010\n",
            "Epoch 14/100\n",
            "\u001b[1m21/21\u001b[0m \u001b[32m━━━━━━━━━━━━━━━━━━━━\u001b[0m\u001b[37m\u001b[0m \u001b[1m0s\u001b[0m 5ms/step - loss: 6257.0718 - mae: 57.6580 - val_loss: 3561.4807 - val_mae: 43.0912 - learning_rate: 0.0010\n",
            "Epoch 15/100\n",
            "\u001b[1m21/21\u001b[0m \u001b[32m━━━━━━━━━━━━━━━━━━━━\u001b[0m\u001b[37m\u001b[0m \u001b[1m0s\u001b[0m 6ms/step - loss: 5378.5674 - mae: 53.0237 - val_loss: 3087.4067 - val_mae: 40.1862 - learning_rate: 0.0010\n",
            "Epoch 16/100\n",
            "\u001b[1m21/21\u001b[0m \u001b[32m━━━━━━━━━━━━━━━━━━━━\u001b[0m\u001b[37m\u001b[0m \u001b[1m0s\u001b[0m 4ms/step - loss: 4659.0933 - mae: 49.7033 - val_loss: 2722.7917 - val_mae: 37.8340 - learning_rate: 0.0010\n",
            "Epoch 17/100\n",
            "\u001b[1m21/21\u001b[0m \u001b[32m━━━━━━━━━━━━━━━━━━━━\u001b[0m\u001b[37m\u001b[0m \u001b[1m0s\u001b[0m 4ms/step - loss: 4370.0342 - mae: 47.8945 - val_loss: 2441.5891 - val_mae: 35.9061 - learning_rate: 0.0010\n",
            "Epoch 18/100\n",
            "\u001b[1m21/21\u001b[0m \u001b[32m━━━━━━━━━━━━━━━━━━━━\u001b[0m\u001b[37m\u001b[0m \u001b[1m0s\u001b[0m 4ms/step - loss: 5083.9536 - mae: 49.9299 - val_loss: 2184.9124 - val_mae: 33.9833 - learning_rate: 0.0010\n",
            "Epoch 19/100\n",
            "\u001b[1m21/21\u001b[0m \u001b[32m━━━━━━━━━━━━━━━━━━━━\u001b[0m\u001b[37m\u001b[0m \u001b[1m0s\u001b[0m 4ms/step - loss: 4545.1201 - mae: 48.7328 - val_loss: 1989.1989 - val_mae: 32.7187 - learning_rate: 0.0010\n",
            "Epoch 20/100\n",
            "\u001b[1m21/21\u001b[0m \u001b[32m━━━━━━━━━━━━━━━━━━━━\u001b[0m\u001b[37m\u001b[0m \u001b[1m0s\u001b[0m 4ms/step - loss: 4120.8208 - mae: 46.2078 - val_loss: 1852.8376 - val_mae: 31.2125 - learning_rate: 0.0010\n",
            "Epoch 21/100\n",
            "\u001b[1m21/21\u001b[0m \u001b[32m━━━━━━━━━━━━━━━━━━━━\u001b[0m\u001b[37m\u001b[0m \u001b[1m0s\u001b[0m 4ms/step - loss: 3958.5295 - mae: 45.8024 - val_loss: 1731.4103 - val_mae: 30.0073 - learning_rate: 0.0010\n",
            "Epoch 22/100\n",
            "\u001b[1m21/21\u001b[0m \u001b[32m━━━━━━━━━━━━━━━━━━━━\u001b[0m\u001b[37m\u001b[0m \u001b[1m0s\u001b[0m 4ms/step - loss: 3136.8608 - mae: 41.1984 - val_loss: 1622.4781 - val_mae: 29.4320 - learning_rate: 0.0010\n",
            "Epoch 23/100\n",
            "\u001b[1m21/21\u001b[0m \u001b[32m━━━━━━━━━━━━━━━━━━━━\u001b[0m\u001b[37m\u001b[0m \u001b[1m0s\u001b[0m 4ms/step - loss: 3828.3853 - mae: 44.0064 - val_loss: 1516.7618 - val_mae: 28.0770 - learning_rate: 0.0010\n",
            "Epoch 24/100\n",
            "\u001b[1m21/21\u001b[0m \u001b[32m━━━━━━━━━━━━━━━━━━━━\u001b[0m\u001b[37m\u001b[0m \u001b[1m0s\u001b[0m 4ms/step - loss: 3441.3425 - mae: 41.0948 - val_loss: 1431.3798 - val_mae: 27.3189 - learning_rate: 0.0010\n",
            "Epoch 25/100\n",
            "\u001b[1m21/21\u001b[0m \u001b[32m━━━━━━━━━━━━━━━━━━━━\u001b[0m\u001b[37m\u001b[0m \u001b[1m0s\u001b[0m 5ms/step - loss: 2590.1069 - mae: 37.7136 - val_loss: 1365.2340 - val_mae: 26.4189 - learning_rate: 0.0010\n",
            "Epoch 26/100\n",
            "\u001b[1m21/21\u001b[0m \u001b[32m━━━━━━━━━━━━━━━━━━━━\u001b[0m\u001b[37m\u001b[0m \u001b[1m0s\u001b[0m 4ms/step - loss: 3259.8191 - mae: 39.9142 - val_loss: 1312.2181 - val_mae: 26.3039 - learning_rate: 0.0010\n",
            "Epoch 27/100\n",
            "\u001b[1m21/21\u001b[0m \u001b[32m━━━━━━━━━━━━━━━━━━━━\u001b[0m\u001b[37m\u001b[0m \u001b[1m0s\u001b[0m 4ms/step - loss: 2971.7129 - mae: 39.5361 - val_loss: 1268.6061 - val_mae: 25.9786 - learning_rate: 0.0010\n",
            "Epoch 28/100\n",
            "\u001b[1m21/21\u001b[0m \u001b[32m━━━━━━━━━━━━━━━━━━━━\u001b[0m\u001b[37m\u001b[0m \u001b[1m0s\u001b[0m 4ms/step - loss: 2955.5259 - mae: 40.6984 - val_loss: 1230.7787 - val_mae: 25.6754 - learning_rate: 0.0010\n",
            "Epoch 29/100\n",
            "\u001b[1m21/21\u001b[0m \u001b[32m━━━━━━━━━━━━━━━━━━━━\u001b[0m\u001b[37m\u001b[0m \u001b[1m0s\u001b[0m 6ms/step - loss: 2716.2805 - mae: 38.1219 - val_loss: 1139.2556 - val_mae: 24.1932 - learning_rate: 0.0010\n",
            "Epoch 30/100\n",
            "\u001b[1m21/21\u001b[0m \u001b[32m━━━━━━━━━━━━━━━━━━━━\u001b[0m\u001b[37m\u001b[0m \u001b[1m0s\u001b[0m 4ms/step - loss: 3145.2244 - mae: 39.5846 - val_loss: 1086.0293 - val_mae: 23.7724 - learning_rate: 0.0010\n",
            "Epoch 31/100\n",
            "\u001b[1m21/21\u001b[0m \u001b[32m━━━━━━━━━━━━━━━━━━━━\u001b[0m\u001b[37m\u001b[0m \u001b[1m0s\u001b[0m 4ms/step - loss: 2337.4634 - mae: 35.1890 - val_loss: 1078.0123 - val_mae: 23.5207 - learning_rate: 0.0010\n",
            "Epoch 32/100\n",
            "\u001b[1m21/21\u001b[0m \u001b[32m━━━━━━━━━━━━━━━━━━━━\u001b[0m\u001b[37m\u001b[0m \u001b[1m0s\u001b[0m 4ms/step - loss: 2660.9326 - mae: 37.2080 - val_loss: 1022.8108 - val_mae: 23.0015 - learning_rate: 0.0010\n",
            "Epoch 33/100\n",
            "\u001b[1m21/21\u001b[0m \u001b[32m━━━━━━━━━━━━━━━━━━━━\u001b[0m\u001b[37m\u001b[0m \u001b[1m0s\u001b[0m 5ms/step - loss: 2798.7473 - mae: 37.2794 - val_loss: 982.5800 - val_mae: 22.4725 - learning_rate: 0.0010\n",
            "Epoch 34/100\n",
            "\u001b[1m21/21\u001b[0m \u001b[32m━━━━━━━━━━━━━━━━━━━━\u001b[0m\u001b[37m\u001b[0m \u001b[1m0s\u001b[0m 4ms/step - loss: 2663.0581 - mae: 37.1633 - val_loss: 946.7844 - val_mae: 22.1847 - learning_rate: 0.0010\n",
            "Epoch 35/100\n",
            "\u001b[1m21/21\u001b[0m \u001b[32m━━━━━━━━━━━━━━━━━━━━\u001b[0m\u001b[37m\u001b[0m \u001b[1m0s\u001b[0m 6ms/step - loss: 2570.1875 - mae: 35.3209 - val_loss: 930.1735 - val_mae: 21.7474 - learning_rate: 0.0010\n",
            "Epoch 36/100\n",
            "\u001b[1m21/21\u001b[0m \u001b[32m━━━━━━━━━━━━━━━━━━━━\u001b[0m\u001b[37m\u001b[0m \u001b[1m0s\u001b[0m 11ms/step - loss: 2795.1453 - mae: 36.2896 - val_loss: 882.2520 - val_mae: 21.4202 - learning_rate: 0.0010\n",
            "Epoch 37/100\n",
            "\u001b[1m21/21\u001b[0m \u001b[32m━━━━━━━━━━━━━━━━━━━━\u001b[0m\u001b[37m\u001b[0m \u001b[1m0s\u001b[0m 6ms/step - loss: 2407.8411 - mae: 34.9429 - val_loss: 862.7666 - val_mae: 21.4210 - learning_rate: 0.0010\n",
            "Epoch 38/100\n",
            "\u001b[1m21/21\u001b[0m \u001b[32m━━━━━━━━━━━━━━━━━━━━\u001b[0m\u001b[37m\u001b[0m \u001b[1m0s\u001b[0m 6ms/step - loss: 2782.3069 - mae: 37.1243 - val_loss: 866.5235 - val_mae: 21.3446 - learning_rate: 0.0010\n",
            "Epoch 39/100\n",
            "\u001b[1m21/21\u001b[0m \u001b[32m━━━━━━━━━━━━━━━━━━━━\u001b[0m\u001b[37m\u001b[0m \u001b[1m0s\u001b[0m 5ms/step - loss: 2429.2688 - mae: 35.2166 - val_loss: 803.4827 - val_mae: 20.2880 - learning_rate: 0.0010\n",
            "Epoch 40/100\n",
            "\u001b[1m21/21\u001b[0m \u001b[32m━━━━━━━━━━━━━━━━━━━━\u001b[0m\u001b[37m\u001b[0m \u001b[1m0s\u001b[0m 6ms/step - loss: 3034.0552 - mae: 36.9155 - val_loss: 886.2953 - val_mae: 22.9708 - learning_rate: 0.0010\n",
            "Epoch 41/100\n",
            "\u001b[1m21/21\u001b[0m \u001b[32m━━━━━━━━━━━━━━━━━━━━\u001b[0m\u001b[37m\u001b[0m \u001b[1m0s\u001b[0m 6ms/step - loss: 2744.4268 - mae: 36.1886 - val_loss: 798.9091 - val_mae: 21.0314 - learning_rate: 0.0010\n",
            "Epoch 42/100\n",
            "\u001b[1m21/21\u001b[0m \u001b[32m━━━━━━━━━━━━━━━━━━━━\u001b[0m\u001b[37m\u001b[0m \u001b[1m0s\u001b[0m 9ms/step - loss: 2354.9375 - mae: 34.3297 - val_loss: 751.5013 - val_mae: 19.9777 - learning_rate: 0.0010\n",
            "Epoch 43/100\n",
            "\u001b[1m21/21\u001b[0m \u001b[32m━━━━━━━━━━━━━━━━━━━━\u001b[0m\u001b[37m\u001b[0m \u001b[1m0s\u001b[0m 5ms/step - loss: 3101.8975 - mae: 37.4328 - val_loss: 753.5376 - val_mae: 20.8739 - learning_rate: 0.0010\n",
            "Epoch 44/100\n",
            "\u001b[1m21/21\u001b[0m \u001b[32m━━━━━━━━━━━━━━━━━━━━\u001b[0m\u001b[37m\u001b[0m \u001b[1m0s\u001b[0m 7ms/step - loss: 2608.6260 - mae: 34.6223 - val_loss: 681.2175 - val_mae: 17.9431 - learning_rate: 0.0010\n",
            "Epoch 45/100\n",
            "\u001b[1m21/21\u001b[0m \u001b[32m━━━━━━━━━━━━━━━━━━━━\u001b[0m\u001b[37m\u001b[0m \u001b[1m0s\u001b[0m 7ms/step - loss: 2039.7319 - mae: 31.9731 - val_loss: 661.7098 - val_mae: 18.8419 - learning_rate: 0.0010\n",
            "Epoch 46/100\n",
            "\u001b[1m21/21\u001b[0m \u001b[32m━━━━━━━━━━━━━━━━━━━━\u001b[0m\u001b[37m\u001b[0m \u001b[1m0s\u001b[0m 7ms/step - loss: 2316.5586 - mae: 33.7057 - val_loss: 631.1945 - val_mae: 17.5356 - learning_rate: 0.0010\n",
            "Epoch 47/100\n",
            "\u001b[1m21/21\u001b[0m \u001b[32m━━━━━━━━━━━━━━━━━━━━\u001b[0m\u001b[37m\u001b[0m \u001b[1m0s\u001b[0m 6ms/step - loss: 2278.5137 - mae: 33.6543 - val_loss: 673.1675 - val_mae: 19.7119 - learning_rate: 0.0010\n",
            "Epoch 48/100\n",
            "\u001b[1m21/21\u001b[0m \u001b[32m━━━━━━━━━━━━━━━━━━━━\u001b[0m\u001b[37m\u001b[0m \u001b[1m0s\u001b[0m 6ms/step - loss: 2239.2676 - mae: 33.2237 - val_loss: 697.7454 - val_mae: 20.0899 - learning_rate: 0.0010\n",
            "Epoch 49/100\n",
            "\u001b[1m21/21\u001b[0m \u001b[32m━━━━━━━━━━━━━━━━━━━━\u001b[0m\u001b[37m\u001b[0m \u001b[1m0s\u001b[0m 7ms/step - loss: 2783.7568 - mae: 34.7641 - val_loss: 595.4008 - val_mae: 16.4986 - learning_rate: 0.0010\n",
            "Epoch 50/100\n",
            "\u001b[1m21/21\u001b[0m \u001b[32m━━━━━━━━━━━━━━━━━━━━\u001b[0m\u001b[37m\u001b[0m \u001b[1m0s\u001b[0m 4ms/step - loss: 2304.7590 - mae: 33.4193 - val_loss: 564.4254 - val_mae: 17.2318 - learning_rate: 0.0010\n",
            "Epoch 51/100\n",
            "\u001b[1m21/21\u001b[0m \u001b[32m━━━━━━━━━━━━━━━━━━━━\u001b[0m\u001b[37m\u001b[0m \u001b[1m0s\u001b[0m 5ms/step - loss: 2005.7131 - mae: 32.6777 - val_loss: 601.7827 - val_mae: 18.7839 - learning_rate: 0.0010\n",
            "Epoch 52/100\n",
            "\u001b[1m21/21\u001b[0m \u001b[32m━━━━━━━━━━━━━━━━━━━━\u001b[0m\u001b[37m\u001b[0m \u001b[1m0s\u001b[0m 3ms/step - loss: 2183.7681 - mae: 31.3280 - val_loss: 559.7089 - val_mae: 16.7674 - learning_rate: 0.0010\n",
            "Epoch 53/100\n",
            "\u001b[1m21/21\u001b[0m \u001b[32m━━━━━━━━━━━━━━━━━━━━\u001b[0m\u001b[37m\u001b[0m \u001b[1m0s\u001b[0m 4ms/step - loss: 2685.5823 - mae: 34.6086 - val_loss: 530.7130 - val_mae: 15.8943 - learning_rate: 0.0010\n",
            "Epoch 54/100\n",
            "\u001b[1m21/21\u001b[0m \u001b[32m━━━━━━━━━━━━━━━━━━━━\u001b[0m\u001b[37m\u001b[0m \u001b[1m0s\u001b[0m 4ms/step - loss: 2318.7537 - mae: 32.7581 - val_loss: 516.0266 - val_mae: 16.2742 - learning_rate: 0.0010\n",
            "Epoch 55/100\n",
            "\u001b[1m21/21\u001b[0m \u001b[32m━━━━━━━━━━━━━━━━━━━━\u001b[0m\u001b[37m\u001b[0m \u001b[1m0s\u001b[0m 4ms/step - loss: 2563.4512 - mae: 32.9815 - val_loss: 547.6118 - val_mae: 17.9494 - learning_rate: 0.0010\n",
            "Epoch 56/100\n",
            "\u001b[1m21/21\u001b[0m \u001b[32m━━━━━━━━━━━━━━━━━━━━\u001b[0m\u001b[37m\u001b[0m \u001b[1m0s\u001b[0m 4ms/step - loss: 2099.9905 - mae: 30.5527 - val_loss: 561.3099 - val_mae: 17.9037 - learning_rate: 0.0010\n",
            "Epoch 57/100\n",
            "\u001b[1m21/21\u001b[0m \u001b[32m━━━━━━━━━━━━━━━━━━━━\u001b[0m\u001b[37m\u001b[0m \u001b[1m0s\u001b[0m 4ms/step - loss: 2002.4634 - mae: 31.4638 - val_loss: 489.7343 - val_mae: 15.6056 - learning_rate: 0.0010\n",
            "Epoch 58/100\n",
            "\u001b[1m21/21\u001b[0m \u001b[32m━━━━━━━━━━━━━━━━━━━━\u001b[0m\u001b[37m\u001b[0m \u001b[1m0s\u001b[0m 4ms/step - loss: 2351.5698 - mae: 33.1633 - val_loss: 506.4374 - val_mae: 14.6134 - learning_rate: 0.0010\n",
            "Epoch 59/100\n",
            "\u001b[1m21/21\u001b[0m \u001b[32m━━━━━━━━━━━━━━━━━━━━\u001b[0m\u001b[37m\u001b[0m \u001b[1m0s\u001b[0m 5ms/step - loss: 1797.5420 - mae: 29.1250 - val_loss: 520.3972 - val_mae: 15.5769 - learning_rate: 0.0010\n",
            "Epoch 60/100\n",
            "\u001b[1m21/21\u001b[0m \u001b[32m━━━━━━━━━━━━━━━━━━━━\u001b[0m\u001b[37m\u001b[0m \u001b[1m0s\u001b[0m 5ms/step - loss: 1643.5206 - mae: 28.3666 - val_loss: 526.3568 - val_mae: 16.9811 - learning_rate: 0.0010\n",
            "Epoch 61/100\n",
            "\u001b[1m21/21\u001b[0m \u001b[32m━━━━━━━━━━━━━━━━━━━━\u001b[0m\u001b[37m\u001b[0m \u001b[1m0s\u001b[0m 5ms/step - loss: 2192.0454 - mae: 31.4173 - val_loss: 475.8317 - val_mae: 15.9278 - learning_rate: 0.0010\n",
            "Epoch 62/100\n",
            "\u001b[1m21/21\u001b[0m \u001b[32m━━━━━━━━━━━━━━━━━━━━\u001b[0m\u001b[37m\u001b[0m \u001b[1m0s\u001b[0m 4ms/step - loss: 1885.1212 - mae: 29.2707 - val_loss: 434.9791 - val_mae: 14.0411 - learning_rate: 0.0010\n",
            "Epoch 63/100\n",
            "\u001b[1m21/21\u001b[0m \u001b[32m━━━━━━━━━━━━━━━━━━━━\u001b[0m\u001b[37m\u001b[0m \u001b[1m0s\u001b[0m 3ms/step - loss: 2201.1531 - mae: 30.5898 - val_loss: 486.3389 - val_mae: 17.4647 - learning_rate: 0.0010\n",
            "Epoch 64/100\n",
            "\u001b[1m21/21\u001b[0m \u001b[32m━━━━━━━━━━━━━━━━━━━━\u001b[0m\u001b[37m\u001b[0m \u001b[1m0s\u001b[0m 5ms/step - loss: 1945.0172 - mae: 29.9440 - val_loss: 434.4715 - val_mae: 15.2508 - learning_rate: 0.0010\n",
            "Epoch 65/100\n",
            "\u001b[1m21/21\u001b[0m \u001b[32m━━━━━━━━━━━━━━━━━━━━\u001b[0m\u001b[37m\u001b[0m \u001b[1m0s\u001b[0m 3ms/step - loss: 1795.4618 - mae: 28.8257 - val_loss: 440.9736 - val_mae: 15.8964 - learning_rate: 0.0010\n",
            "Epoch 66/100\n",
            "\u001b[1m21/21\u001b[0m \u001b[32m━━━━━━━━━━━━━━━━━━━━\u001b[0m\u001b[37m\u001b[0m \u001b[1m0s\u001b[0m 5ms/step - loss: 2691.0398 - mae: 34.4037 - val_loss: 390.1372 - val_mae: 13.5051 - learning_rate: 0.0010\n",
            "Epoch 67/100\n",
            "\u001b[1m21/21\u001b[0m \u001b[32m━━━━━━━━━━━━━━━━━━━━\u001b[0m\u001b[37m\u001b[0m \u001b[1m0s\u001b[0m 4ms/step - loss: 1575.6448 - mae: 27.4099 - val_loss: 398.9583 - val_mae: 14.3007 - learning_rate: 0.0010\n",
            "Epoch 68/100\n",
            "\u001b[1m21/21\u001b[0m \u001b[32m━━━━━━━━━━━━━━━━━━━━\u001b[0m\u001b[37m\u001b[0m \u001b[1m0s\u001b[0m 4ms/step - loss: 2172.7029 - mae: 29.9912 - val_loss: 446.2335 - val_mae: 15.9107 - learning_rate: 0.0010\n",
            "Epoch 69/100\n",
            "\u001b[1m21/21\u001b[0m \u001b[32m━━━━━━━━━━━━━━━━━━━━\u001b[0m\u001b[37m\u001b[0m \u001b[1m0s\u001b[0m 3ms/step - loss: 1896.7101 - mae: 28.8457 - val_loss: 385.7269 - val_mae: 13.9236 - learning_rate: 0.0010\n",
            "Epoch 70/100\n",
            "\u001b[1m21/21\u001b[0m \u001b[32m━━━━━━━━━━━━━━━━━━━━\u001b[0m\u001b[37m\u001b[0m \u001b[1m0s\u001b[0m 4ms/step - loss: 2081.8625 - mae: 29.7398 - val_loss: 447.5323 - val_mae: 16.3768 - learning_rate: 0.0010\n",
            "Epoch 71/100\n",
            "\u001b[1m21/21\u001b[0m \u001b[32m━━━━━━━━━━━━━━━━━━━━\u001b[0m\u001b[37m\u001b[0m \u001b[1m0s\u001b[0m 4ms/step - loss: 2076.9888 - mae: 30.2192 - val_loss: 358.1621 - val_mae: 11.9538 - learning_rate: 0.0010\n",
            "Epoch 72/100\n",
            "\u001b[1m21/21\u001b[0m \u001b[32m━━━━━━━━━━━━━━━━━━━━\u001b[0m\u001b[37m\u001b[0m \u001b[1m0s\u001b[0m 4ms/step - loss: 1983.9568 - mae: 30.3466 - val_loss: 395.3649 - val_mae: 15.1585 - learning_rate: 0.0010\n",
            "Epoch 73/100\n",
            "\u001b[1m21/21\u001b[0m \u001b[32m━━━━━━━━━━━━━━━━━━━━\u001b[0m\u001b[37m\u001b[0m \u001b[1m0s\u001b[0m 4ms/step - loss: 1844.5529 - mae: 28.5135 - val_loss: 349.4372 - val_mae: 12.8905 - learning_rate: 0.0010\n",
            "Epoch 74/100\n",
            "\u001b[1m21/21\u001b[0m \u001b[32m━━━━━━━━━━━━━━━━━━━━\u001b[0m\u001b[37m\u001b[0m \u001b[1m0s\u001b[0m 5ms/step - loss: 1894.2986 - mae: 28.8095 - val_loss: 347.4044 - val_mae: 13.1265 - learning_rate: 0.0010\n",
            "Epoch 75/100\n",
            "\u001b[1m21/21\u001b[0m \u001b[32m━━━━━━━━━━━━━━━━━━━━\u001b[0m\u001b[37m\u001b[0m \u001b[1m0s\u001b[0m 5ms/step - loss: 1616.0272 - mae: 26.8676 - val_loss: 326.9318 - val_mae: 11.3362 - learning_rate: 0.0010\n",
            "Epoch 76/100\n",
            "\u001b[1m21/21\u001b[0m \u001b[32m━━━━━━━━━━━━━━━━━━━━\u001b[0m\u001b[37m\u001b[0m \u001b[1m0s\u001b[0m 4ms/step - loss: 1706.7131 - mae: 28.8068 - val_loss: 323.6582 - val_mae: 11.4177 - learning_rate: 0.0010\n",
            "Epoch 77/100\n",
            "\u001b[1m21/21\u001b[0m \u001b[32m━━━━━━━━━━━━━━━━━━━━\u001b[0m\u001b[37m\u001b[0m \u001b[1m0s\u001b[0m 4ms/step - loss: 1563.5439 - mae: 27.2206 - val_loss: 339.1938 - val_mae: 13.1890 - learning_rate: 0.0010\n",
            "Epoch 78/100\n",
            "\u001b[1m21/21\u001b[0m \u001b[32m━━━━━━━━━━━━━━━━━━━━\u001b[0m\u001b[37m\u001b[0m \u001b[1m0s\u001b[0m 5ms/step - loss: 2007.0507 - mae: 28.8998 - val_loss: 312.5851 - val_mae: 10.8789 - learning_rate: 0.0010\n",
            "Epoch 79/100\n",
            "\u001b[1m21/21\u001b[0m \u001b[32m━━━━━━━━━━━━━━━━━━━━\u001b[0m\u001b[37m\u001b[0m \u001b[1m0s\u001b[0m 5ms/step - loss: 1516.7440 - mae: 27.0684 - val_loss: 306.5145 - val_mae: 11.7642 - learning_rate: 0.0010\n",
            "Epoch 80/100\n",
            "\u001b[1m21/21\u001b[0m \u001b[32m━━━━━━━━━━━━━━━━━━━━\u001b[0m\u001b[37m\u001b[0m \u001b[1m0s\u001b[0m 4ms/step - loss: 1601.0171 - mae: 27.4761 - val_loss: 288.8770 - val_mae: 11.2754 - learning_rate: 0.0010\n",
            "Epoch 81/100\n",
            "\u001b[1m21/21\u001b[0m \u001b[32m━━━━━━━━━━━━━━━━━━━━\u001b[0m\u001b[37m\u001b[0m \u001b[1m0s\u001b[0m 4ms/step - loss: 1980.4233 - mae: 28.4941 - val_loss: 321.6940 - val_mae: 13.4087 - learning_rate: 0.0010\n",
            "Epoch 82/100\n",
            "\u001b[1m21/21\u001b[0m \u001b[32m━━━━━━━━━━━━━━━━━━━━\u001b[0m\u001b[37m\u001b[0m \u001b[1m0s\u001b[0m 4ms/step - loss: 1496.5311 - mae: 26.3169 - val_loss: 269.7631 - val_mae: 10.8861 - learning_rate: 0.0010\n",
            "Epoch 83/100\n",
            "\u001b[1m21/21\u001b[0m \u001b[32m━━━━━━━━━━━━━━━━━━━━\u001b[0m\u001b[37m\u001b[0m \u001b[1m0s\u001b[0m 4ms/step - loss: 1773.1272 - mae: 29.1820 - val_loss: 263.6082 - val_mae: 11.1625 - learning_rate: 0.0010\n",
            "Epoch 84/100\n",
            "\u001b[1m21/21\u001b[0m \u001b[32m━━━━━━━━━━━━━━━━━━━━\u001b[0m\u001b[37m\u001b[0m \u001b[1m0s\u001b[0m 4ms/step - loss: 1882.0448 - mae: 28.6182 - val_loss: 363.3561 - val_mae: 14.8907 - learning_rate: 0.0010\n",
            "Epoch 85/100\n",
            "\u001b[1m21/21\u001b[0m \u001b[32m━━━━━━━━━━━━━━━━━━━━\u001b[0m\u001b[37m\u001b[0m \u001b[1m0s\u001b[0m 4ms/step - loss: 1942.7031 - mae: 29.2633 - val_loss: 308.9786 - val_mae: 11.4480 - learning_rate: 0.0010\n",
            "Epoch 86/100\n",
            "\u001b[1m21/21\u001b[0m \u001b[32m━━━━━━━━━━━━━━━━━━━━\u001b[0m\u001b[37m\u001b[0m \u001b[1m0s\u001b[0m 3ms/step - loss: 2078.9790 - mae: 28.2937 - val_loss: 285.1474 - val_mae: 12.2806 - learning_rate: 0.0010\n",
            "Epoch 87/100\n",
            "\u001b[1m21/21\u001b[0m \u001b[32m━━━━━━━━━━━━━━━━━━━━\u001b[0m\u001b[37m\u001b[0m \u001b[1m0s\u001b[0m 5ms/step - loss: 2021.4879 - mae: 28.4144 - val_loss: 272.5244 - val_mae: 11.7865 - learning_rate: 0.0010\n",
            "Epoch 88/100\n",
            "\u001b[1m21/21\u001b[0m \u001b[32m━━━━━━━━━━━━━━━━━━━━\u001b[0m\u001b[37m\u001b[0m \u001b[1m0s\u001b[0m 5ms/step - loss: 1940.4633 - mae: 27.8950 - val_loss: 266.8728 - val_mae: 12.2500 - learning_rate: 0.0010\n",
            "Epoch 89/100\n",
            "\u001b[1m21/21\u001b[0m \u001b[32m━━━━━━━━━━━━━━━━━━━━\u001b[0m\u001b[37m\u001b[0m \u001b[1m0s\u001b[0m 5ms/step - loss: 1786.3250 - mae: 27.7874 - val_loss: 288.3462 - val_mae: 13.1494 - learning_rate: 2.0000e-04\n",
            "Epoch 90/100\n",
            "\u001b[1m21/21\u001b[0m \u001b[32m━━━━━━━━━━━━━━━━━━━━\u001b[0m\u001b[37m\u001b[0m \u001b[1m0s\u001b[0m 4ms/step - loss: 1823.6743 - mae: 27.9038 - val_loss: 265.0974 - val_mae: 12.1221 - learning_rate: 2.0000e-04\n",
            "Epoch 91/100\n",
            "\u001b[1m21/21\u001b[0m \u001b[32m━━━━━━━━━━━━━━━━━━━━\u001b[0m\u001b[37m\u001b[0m \u001b[1m0s\u001b[0m 4ms/step - loss: 1614.2255 - mae: 26.2956 - val_loss: 273.7009 - val_mae: 12.4194 - learning_rate: 2.0000e-04\n",
            "Epoch 92/100\n",
            "\u001b[1m21/21\u001b[0m \u001b[32m━━━━━━━━━━━━━━━━━━━━\u001b[0m\u001b[37m\u001b[0m \u001b[1m0s\u001b[0m 4ms/step - loss: 1758.9717 - mae: 27.3430 - val_loss: 269.0338 - val_mae: 12.1401 - learning_rate: 2.0000e-04\n",
            "Epoch 93/100\n",
            "\u001b[1m21/21\u001b[0m \u001b[32m━━━━━━━━━━━━━━━━━━━━\u001b[0m\u001b[37m\u001b[0m \u001b[1m0s\u001b[0m 5ms/step - loss: 1781.8912 - mae: 27.7022 - val_loss: 254.8317 - val_mae: 11.5025 - learning_rate: 2.0000e-04\n",
            "Epoch 94/100\n",
            "\u001b[1m21/21\u001b[0m \u001b[32m━━━━━━━━━━━━━━━━━━━━\u001b[0m\u001b[37m\u001b[0m \u001b[1m0s\u001b[0m 4ms/step - loss: 1894.7562 - mae: 28.1849 - val_loss: 238.7892 - val_mae: 10.6865 - learning_rate: 2.0000e-04\n",
            "Epoch 95/100\n",
            "\u001b[1m21/21\u001b[0m \u001b[32m━━━━━━━━━━━━━━━━━━━━\u001b[0m\u001b[37m\u001b[0m \u001b[1m0s\u001b[0m 5ms/step - loss: 1912.4440 - mae: 28.6716 - val_loss: 227.2859 - val_mae: 9.9699 - learning_rate: 2.0000e-04\n",
            "Epoch 96/100\n",
            "\u001b[1m21/21\u001b[0m \u001b[32m━━━━━━━━━━━━━━━━━━━━\u001b[0m\u001b[37m\u001b[0m \u001b[1m0s\u001b[0m 6ms/step - loss: 2011.6707 - mae: 28.6272 - val_loss: 225.2308 - val_mae: 10.0030 - learning_rate: 2.0000e-04\n",
            "Epoch 97/100\n",
            "\u001b[1m21/21\u001b[0m \u001b[32m━━━━━━━━━━━━━━━━━━━━\u001b[0m\u001b[37m\u001b[0m \u001b[1m0s\u001b[0m 4ms/step - loss: 2288.9624 - mae: 29.2937 - val_loss: 224.6206 - val_mae: 9.9109 - learning_rate: 2.0000e-04\n",
            "Epoch 98/100\n",
            "\u001b[1m21/21\u001b[0m \u001b[32m━━━━━━━━━━━━━━━━━━━━\u001b[0m\u001b[37m\u001b[0m \u001b[1m0s\u001b[0m 4ms/step - loss: 1269.8757 - mae: 25.2531 - val_loss: 221.1356 - val_mae: 9.6140 - learning_rate: 2.0000e-04\n",
            "Epoch 99/100\n",
            "\u001b[1m21/21\u001b[0m \u001b[32m━━━━━━━━━━━━━━━━━━━━\u001b[0m\u001b[37m\u001b[0m \u001b[1m0s\u001b[0m 4ms/step - loss: 1548.3632 - mae: 26.0435 - val_loss: 235.5938 - val_mae: 10.7827 - learning_rate: 2.0000e-04\n",
            "Epoch 100/100\n",
            "\u001b[1m21/21\u001b[0m \u001b[32m━━━━━━━━━━━━━━━━━━━━\u001b[0m\u001b[37m\u001b[0m \u001b[1m0s\u001b[0m 4ms/step - loss: 1816.3165 - mae: 27.8238 - val_loss: 241.4428 - val_mae: 11.3469 - learning_rate: 2.0000e-04\n"
          ]
        }
      ]
    },
    {
      "cell_type": "code",
      "source": [
        "# Evaluate the model\n",
        "test_loss, test_mae = model.evaluate(X_test_scaled, y_test)\n",
        "print(f'Test Loss: {test_loss}')\n",
        "print(f'Test MAE: {test_mae}')"
      ],
      "metadata": {
        "colab": {
          "base_uri": "https://localhost:8080/"
        },
        "id": "tGfpaKqZ_B7l",
        "outputId": "850bac42-aa2a-4cdc-eebb-21154b889948"
      },
      "execution_count": 37,
      "outputs": [
        {
          "output_type": "stream",
          "name": "stdout",
          "text": [
            "\u001b[1m7/7\u001b[0m \u001b[32m━━━━━━━━━━━━━━━━━━━━\u001b[0m\u001b[37m\u001b[0m \u001b[1m0s\u001b[0m 2ms/step - loss: 115.1096 - mae: 7.4025\n",
            "Test Loss: 138.22222900390625\n",
            "Test MAE: 7.618452548980713\n"
          ]
        }
      ]
    },
    {
      "cell_type": "code",
      "source": [
        "def predict_calories(food_name):\n",
        "    # Find the food item in the dataset (case-insensitive)\n",
        "    food_data = data_cleaned[data_cleaned['food_name'].str.lower() == food_name.lower()]\n",
        "\n",
        "    if food_data.empty:\n",
        "        print(f\"Food item '{food_name}' not found in the dataset.\")\n",
        "        return None\n",
        "\n",
        "    # Prepare the features (convert to DataFrame to retain feature names)\n",
        "    food_features = food_data[features]\n",
        "\n",
        "    # Scale the features\n",
        "    food_features_scaled = scaler.transform(food_features)\n",
        "\n",
        "    # Predict calories\n",
        "    predicted_calories = model.predict(food_features_scaled)[0][0]\n",
        "\n",
        "    return predicted_calories"
      ],
      "metadata": {
        "id": "am0TpAvX_CDT"
      },
      "execution_count": 38,
      "outputs": []
    },
    {
      "cell_type": "code",
      "source": [
        "# Example usage\n",
        "print(\"\\nExample Predictions:\")\n",
        "example_foods = ['Hot tea (Garam Chai)', 'Instant coffee', 'Espreso coffee', 'Iced tea']\n",
        "for food in example_foods:\n",
        "    calories = predict_calories(food)\n",
        "    if calories is not None:\n",
        "        actual_calories = data_cleaned[data_cleaned['food_name'] == food]['energy_kcal'].values[0]\n",
        "        print(f\"{food}: Predicted {calories:.2f} kcal (Actual: {actual_calories:.2f} kcal)\")"
      ],
      "metadata": {
        "colab": {
          "base_uri": "https://localhost:8080/"
        },
        "id": "FW7GqOFg-Q3B",
        "outputId": "68a0c614-c5f3-45c0-f5b6-766181bf6b3b"
      },
      "execution_count": 39,
      "outputs": [
        {
          "output_type": "stream",
          "name": "stdout",
          "text": [
            "\n",
            "Example Predictions:\n",
            "\u001b[1m1/1\u001b[0m \u001b[32m━━━━━━━━━━━━━━━━━━━━\u001b[0m\u001b[37m\u001b[0m \u001b[1m0s\u001b[0m 60ms/step\n",
            "Hot tea (Garam Chai): Predicted 32.88 kcal (Actual: 16.14 kcal)\n",
            "\u001b[1m1/1\u001b[0m \u001b[32m━━━━━━━━━━━━━━━━━━━━\u001b[0m\u001b[37m\u001b[0m \u001b[1m0s\u001b[0m 29ms/step\n",
            "Instant coffee: Predicted 33.93 kcal (Actual: 23.16 kcal)\n",
            "\u001b[1m1/1\u001b[0m \u001b[32m━━━━━━━━━━━━━━━━━━━━\u001b[0m\u001b[37m\u001b[0m \u001b[1m0s\u001b[0m 26ms/step\n",
            "Espreso coffee: Predicted 56.11 kcal (Actual: 51.54 kcal)\n",
            "\u001b[1m1/1\u001b[0m \u001b[32m━━━━━━━━━━━━━━━━━━━━\u001b[0m\u001b[37m\u001b[0m \u001b[1m0s\u001b[0m 22ms/step\n",
            "Iced tea: Predicted 31.20 kcal (Actual: 10.34 kcal)\n"
          ]
        }
      ]
    },
    {
      "cell_type": "code",
      "source": [
        "import matplotlib.pyplot as plt\n",
        "\n",
        "# Generate predictions and calculate errors\n",
        "predictions = model.predict(X_test_scaled)\n",
        "errors = y_test - predictions.flatten()\n",
        "\n",
        "# Plot the error distribution\n",
        "plt.hist(errors, bins=20)\n",
        "plt.title(\"Error Distribution\")\n",
        "plt.xlabel(\"Prediction Error\")\n",
        "plt.ylabel(\"Frequency\")\n",
        "plt.show()"
      ],
      "metadata": {
        "colab": {
          "base_uri": "https://localhost:8080/",
          "height": 490
        },
        "id": "sETW2XsEJZwK",
        "outputId": "98ca5c73-86d6-4816-8522-488e4054ca35"
      },
      "execution_count": 40,
      "outputs": [
        {
          "output_type": "stream",
          "name": "stdout",
          "text": [
            "\u001b[1m7/7\u001b[0m \u001b[32m━━━━━━━━━━━━━━━━━━━━\u001b[0m\u001b[37m\u001b[0m \u001b[1m0s\u001b[0m 3ms/step \n"
          ]
        },
        {
          "output_type": "display_data",
          "data": {
            "text/plain": [
              "<Figure size 640x480 with 1 Axes>"
            ],
            "image/png": "[encoded data removed]"
          },
          "metadata": {}
        }
      ]
    },
    {
      "cell_type": "code",
      "source": [
        "# Optional: Plot training history\n",
        "import matplotlib.pyplot as plt\n",
        "\n",
        "plt.figure(figsize=(12,4))\n",
        "plt.subplot(1,2,1)\n",
        "plt.plot(history.history['loss'], label='Training Loss')\n",
        "plt.plot(history.history['val_loss'], label='Validation Loss')\n",
        "plt.title('Model Loss')\n",
        "plt.xlabel('Epoch')\n",
        "plt.ylabel('Loss')\n",
        "plt.legend()\n",
        "\n",
        "plt.subplot(1,2,2)\n",
        "plt.plot(history.history['mae'], label='Training MAE')\n",
        "plt.plot(history.history['val_mae'], label='Validation MAE')\n",
        "plt.title('Model Mean Absolute Error')\n",
        "plt.xlabel('Epoch')\n",
        "plt.ylabel('MAE')\n",
        "plt.legend()"
      ],
      "metadata": {
        "colab": {
          "base_uri": "https://localhost:8080/",
          "height": 428
        },
        "id": "EDA2lGrjF6W6",
        "outputId": "720f007f-bc71-4561-f840-ba5864ac0f0e"
      },
      "execution_count": 41,
      "outputs": [
        {
          "output_type": "execute_result",
          "data": {
            "text/plain": [
              "<matplotlib.legend.Legend at 0x7a0b793b3eb0>"
            ]
          },
          "metadata": {},
          "execution_count": 41
        },
        {
          "output_type": "display_data",
          "data": {
            "text/plain": [
              "<Figure size 1200x400 with 2 Axes>"
            ],
            "image/png": "[encoded data removed]"
          },
          "metadata": {}
        }
      ]
    },
    {
      "cell_type": "code",
      "source": [
        "plt.tight_layout()\n",
        "plt.show()"
      ],
      "metadata": {
        "colab": {
          "base_uri": "https://localhost:8080/",
          "height": 35
        },
        "id": "EugfmTkzF6dI",
        "outputId": "dc74e146-055a-48e7-d909-3cbaaacedc87"
      },
      "execution_count": 42,
      "outputs": [
        {
          "output_type": "display_data",
          "data": {
            "text/plain": [
              "<Figure size 640x480 with 0 Axes>"
            ]
          },
          "metadata": {}
        }
      ]
    }
  ]
}